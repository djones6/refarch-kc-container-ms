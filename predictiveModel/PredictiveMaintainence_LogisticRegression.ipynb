{
 "cells": [
  {
   "cell_type": "code",
   "execution_count": null,
   "metadata": {},
   "outputs": [],
   "source": [
    "import pandas as pd\n",
    "import numpy as np\n",
    "from sklearn import linear_model\n",
    "from sklearn import metrics"
   ]
  },
  {
   "cell_type": "code",
   "execution_count": null,
   "metadata": {},
   "outputs": [],
   "source": [
    "data = pd.read_csv('../data/container_matrix_test.csv', delimiter=\",\")\n",
    "data.head()"
   ]
  },
  {
   "cell_type": "code",
   "execution_count": 3,
   "metadata": {},
   "outputs": [
    {
     "data": {
      "text/html": [
       "<div>\n",
       "<style scoped>\n",
       "    .dataframe tbody tr th:only-of-type {\n",
       "        vertical-align: middle;\n",
       "    }\n",
       "\n",
       "    .dataframe tbody tr th {\n",
       "        vertical-align: top;\n",
       "    }\n",
       "\n",
       "    .dataframe thead th {\n",
       "        text-align: right;\n",
       "    }\n",
       "</style>\n",
       "<table border=\"1\" class=\"dataframe\">\n",
       "  <thead>\n",
       "    <tr style=\"text-align: right;\">\n",
       "      <th></th>\n",
       "      <th>Temperature(celsius)</th>\n",
       "      <th>Door_Open</th>\n",
       "      <th>Target_Temperature(celsius)</th>\n",
       "      <th>Amp</th>\n",
       "      <th>ContentType</th>\n",
       "      <th>CumulativePowerConsumption</th>\n",
       "      <th>Humidity</th>\n",
       "      <th>CO2</th>\n",
       "      <th>Defrost_Cycle</th>\n",
       "    </tr>\n",
       "  </thead>\n",
       "  <tbody>\n",
       "    <tr>\n",
       "      <th>0</th>\n",
       "      <td>6.756764</td>\n",
       "      <td>0</td>\n",
       "      <td>4.4</td>\n",
       "      <td>1.612088</td>\n",
       "      <td>3</td>\n",
       "      <td>10.075187</td>\n",
       "      <td>4.244906</td>\n",
       "      <td>10.214897</td>\n",
       "      <td>6</td>\n",
       "    </tr>\n",
       "    <tr>\n",
       "      <th>1</th>\n",
       "      <td>13.277507</td>\n",
       "      <td>0</td>\n",
       "      <td>4.4</td>\n",
       "      <td>2.044077</td>\n",
       "      <td>2</td>\n",
       "      <td>6.676213</td>\n",
       "      <td>10.957086</td>\n",
       "      <td>9.531931</td>\n",
       "      <td>6</td>\n",
       "    </tr>\n",
       "    <tr>\n",
       "      <th>2</th>\n",
       "      <td>7.000711</td>\n",
       "      <td>0</td>\n",
       "      <td>4.4</td>\n",
       "      <td>2.679326</td>\n",
       "      <td>3</td>\n",
       "      <td>10.890773</td>\n",
       "      <td>7.402391</td>\n",
       "      <td>7.324585</td>\n",
       "      <td>6</td>\n",
       "    </tr>\n",
       "    <tr>\n",
       "      <th>3</th>\n",
       "      <td>9.085153</td>\n",
       "      <td>0</td>\n",
       "      <td>4.4</td>\n",
       "      <td>0.963377</td>\n",
       "      <td>5</td>\n",
       "      <td>9.960045</td>\n",
       "      <td>6.699857</td>\n",
       "      <td>12.477479</td>\n",
       "      <td>6</td>\n",
       "    </tr>\n",
       "    <tr>\n",
       "      <th>4</th>\n",
       "      <td>3.013623</td>\n",
       "      <td>0</td>\n",
       "      <td>4.4</td>\n",
       "      <td>2.699073</td>\n",
       "      <td>5</td>\n",
       "      <td>8.154434</td>\n",
       "      <td>4.837972</td>\n",
       "      <td>14.225478</td>\n",
       "      <td>6</td>\n",
       "    </tr>\n",
       "  </tbody>\n",
       "</table>\n",
       "</div>"
      ],
      "text/plain": [
       "   Temperature(celsius)  Door_Open  Target_Temperature(celsius)       Amp  \\\n",
       "0              6.756764          0                          4.4  1.612088   \n",
       "1             13.277507          0                          4.4  2.044077   \n",
       "2              7.000711          0                          4.4  2.679326   \n",
       "3              9.085153          0                          4.4  0.963377   \n",
       "4              3.013623          0                          4.4  2.699073   \n",
       "\n",
       "   ContentType  CumulativePowerConsumption   Humidity        CO2  \\\n",
       "0            3                   10.075187   4.244906  10.214897   \n",
       "1            2                    6.676213  10.957086   9.531931   \n",
       "2            3                   10.890773   7.402391   7.324585   \n",
       "3            5                    9.960045   6.699857  12.477479   \n",
       "4            5                    8.154434   4.837972  14.225478   \n",
       "\n",
       "   Defrost_Cycle  \n",
       "0              6  \n",
       "1              6  \n",
       "2              6  \n",
       "3              6  \n",
       "4              6  "
      ]
     },
     "execution_count": 3,
     "metadata": {},
     "output_type": "execute_result"
    }
   ],
   "source": [
    "# create a Python list of feature names\n",
    "feature_cols = ['Temperature(celsius)', 'Door_Open','Target_Temperature(celsius)','Amp','ContentType','CumulativePowerConsumption'\n",
    "                          ,'Humidity','CO2','Defrost_Cycle']\n",
    "\n",
    "# use the list to select a subset of the original DataFrame\n",
    "X = data[feature_cols]\n",
    "y = data['Maintainence_Required']\n",
    "\n",
    "# print the first 5 rows\n",
    "X.head()"
   ]
  },
  {
   "cell_type": "code",
   "execution_count": 4,
   "metadata": {},
   "outputs": [],
   "source": [
    "import pickle\n",
    "\n",
    "#loading a model from a file called model.pkl\n",
    "model = pickle.load(open(\"model_logistic_regression.pkl\",\"r\"))"
   ]
  },
  {
   "cell_type": "code",
   "execution_count": 5,
   "metadata": {},
   "outputs": [
    {
     "name": "stdout",
     "output_type": "stream",
     "text": [
      "[0 0 0 ... 0 0 0]\n",
      "0.998749217771909\n"
     ]
    }
   ],
   "source": [
    "# make predictions on the input set\n",
    "y_pred = model.predict(X)\n",
    "print y_pred\n",
    "#y_pred.shape\n",
    "print(np.sqrt(metrics.mean_squared_error(y, y_pred)))"
   ]
  },
  {
   "cell_type": "code",
   "execution_count": null,
   "metadata": {},
   "outputs": [],
   "source": []
  }
 ],
 "metadata": {
  "kernelspec": {
   "display_name": "Python 2",
   "language": "python",
   "name": "python2"
  },
  "language_info": {
   "codemirror_mode": {
    "name": "ipython",
    "version": 2
   },
   "file_extension": ".py",
   "mimetype": "text/x-python",
   "name": "python",
   "nbconvert_exporter": "python",
   "pygments_lexer": "ipython2",
   "version": "2.7.10"
  }
 },
 "nbformat": 4,
 "nbformat_minor": 2
}
